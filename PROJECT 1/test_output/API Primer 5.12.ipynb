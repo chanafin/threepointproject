{
 "cells": [
  {
   "cell_type": "code",
   "execution_count": 1,
   "metadata": {},
   "outputs": [
    {
     "name": "stdout",
     "output_type": "stream",
     "text": [
      "Collecting sportsreference\n",
      "  Downloading sportsreference-0.5.2-py3-none-any.whl (472 kB)\n",
      "\u001b[K     |████████████████████████████████| 472 kB 187 kB/s eta 0:00:01\n",
      "\u001b[?25hCollecting pyquery>=1.4.0\n",
      "  Downloading pyquery-1.4.1-py2.py3-none-any.whl (22 kB)\n",
      "Requirement already satisfied: pandas>=0.24.1 in /Users/Sarah/opt/anaconda3/lib/python3.7/site-packages (from sportsreference) (1.0.1)\n",
      "Requirement already satisfied: requests>=2.18.4 in /Users/Sarah/opt/anaconda3/lib/python3.7/site-packages (from sportsreference) (2.22.0)\n",
      "Collecting cssselect>0.7.9\n",
      "  Downloading cssselect-1.1.0-py2.py3-none-any.whl (16 kB)\n",
      "Requirement already satisfied: lxml>=2.1 in /Users/Sarah/opt/anaconda3/lib/python3.7/site-packages (from pyquery>=1.4.0->sportsreference) (4.5.0)\n",
      "Requirement already satisfied: pytz>=2017.2 in /Users/Sarah/opt/anaconda3/lib/python3.7/site-packages (from pandas>=0.24.1->sportsreference) (2019.3)\n",
      "Requirement already satisfied: numpy>=1.13.3 in /Users/Sarah/opt/anaconda3/lib/python3.7/site-packages (from pandas>=0.24.1->sportsreference) (1.18.1)\n",
      "Requirement already satisfied: python-dateutil>=2.6.1 in /Users/Sarah/opt/anaconda3/lib/python3.7/site-packages (from pandas>=0.24.1->sportsreference) (2.8.1)\n",
      "Requirement already satisfied: urllib3!=1.25.0,!=1.25.1,<1.26,>=1.21.1 in /Users/Sarah/opt/anaconda3/lib/python3.7/site-packages (from requests>=2.18.4->sportsreference) (1.25.8)\n",
      "Requirement already satisfied: certifi>=2017.4.17 in /Users/Sarah/opt/anaconda3/lib/python3.7/site-packages (from requests>=2.18.4->sportsreference) (2019.11.28)\n",
      "Requirement already satisfied: chardet<3.1.0,>=3.0.2 in /Users/Sarah/opt/anaconda3/lib/python3.7/site-packages (from requests>=2.18.4->sportsreference) (3.0.4)\n",
      "Requirement already satisfied: idna<2.9,>=2.5 in /Users/Sarah/opt/anaconda3/lib/python3.7/site-packages (from requests>=2.18.4->sportsreference) (2.8)\n",
      "Requirement already satisfied: six>=1.5 in /Users/Sarah/opt/anaconda3/lib/python3.7/site-packages (from python-dateutil>=2.6.1->pandas>=0.24.1->sportsreference) (1.14.0)\n",
      "Installing collected packages: cssselect, pyquery, sportsreference\n",
      "Successfully installed cssselect-1.1.0 pyquery-1.4.1 sportsreference-0.5.2\n",
      "Requirement already satisfied: sportsreference in /Users/Sarah/opt/anaconda3/lib/python3.7/site-packages (0.5.2)\n",
      "Requirement already satisfied: pyquery>=1.4.0 in /Users/Sarah/opt/anaconda3/lib/python3.7/site-packages (from sportsreference) (1.4.1)\n",
      "Requirement already satisfied: pandas>=0.24.1 in /Users/Sarah/opt/anaconda3/lib/python3.7/site-packages (from sportsreference) (1.0.1)\n",
      "Requirement already satisfied: requests>=2.18.4 in /Users/Sarah/opt/anaconda3/lib/python3.7/site-packages (from sportsreference) (2.22.0)\n",
      "Requirement already satisfied: lxml>=2.1 in /Users/Sarah/opt/anaconda3/lib/python3.7/site-packages (from pyquery>=1.4.0->sportsreference) (4.5.0)\n",
      "Requirement already satisfied: cssselect>0.7.9 in /Users/Sarah/opt/anaconda3/lib/python3.7/site-packages (from pyquery>=1.4.0->sportsreference) (1.1.0)\n",
      "Requirement already satisfied: pytz>=2017.2 in /Users/Sarah/opt/anaconda3/lib/python3.7/site-packages (from pandas>=0.24.1->sportsreference) (2019.3)\n",
      "Requirement already satisfied: numpy>=1.13.3 in /Users/Sarah/opt/anaconda3/lib/python3.7/site-packages (from pandas>=0.24.1->sportsreference) (1.18.1)\n",
      "Requirement already satisfied: python-dateutil>=2.6.1 in /Users/Sarah/opt/anaconda3/lib/python3.7/site-packages (from pandas>=0.24.1->sportsreference) (2.8.1)\n",
      "Requirement already satisfied: chardet<3.1.0,>=3.0.2 in /Users/Sarah/opt/anaconda3/lib/python3.7/site-packages (from requests>=2.18.4->sportsreference) (3.0.4)\n",
      "Requirement already satisfied: urllib3!=1.25.0,!=1.25.1,<1.26,>=1.21.1 in /Users/Sarah/opt/anaconda3/lib/python3.7/site-packages (from requests>=2.18.4->sportsreference) (1.25.8)\n",
      "Requirement already satisfied: idna<2.9,>=2.5 in /Users/Sarah/opt/anaconda3/lib/python3.7/site-packages (from requests>=2.18.4->sportsreference) (2.8)\n",
      "Requirement already satisfied: certifi>=2017.4.17 in /Users/Sarah/opt/anaconda3/lib/python3.7/site-packages (from requests>=2.18.4->sportsreference) (2019.11.28)\n",
      "Requirement already satisfied: six>=1.5 in /Users/Sarah/opt/anaconda3/lib/python3.7/site-packages (from python-dateutil>=2.6.1->pandas>=0.24.1->sportsreference) (1.14.0)\n"
     ]
    }
   ],
   "source": [
    "## Before using this package, you should install it through pip first (remove the comment before running)\n",
    "!pip install sportsreference"
   ]
  },
  {
   "cell_type": "code",
   "execution_count": 2,
   "metadata": {},
   "outputs": [],
   "source": [
    "# import pandas\n",
    "import pandas as pd"
   ]
  },
  {
   "cell_type": "code",
   "execution_count": 3,
   "metadata": {
    "scrolled": true
   },
   "outputs": [
    {
     "data": {
      "text/html": [
       "<div>\n",
       "<style scoped>\n",
       "    .dataframe tbody tr th:only-of-type {\n",
       "        vertical-align: middle;\n",
       "    }\n",
       "\n",
       "    .dataframe tbody tr th {\n",
       "        vertical-align: top;\n",
       "    }\n",
       "\n",
       "    .dataframe thead th {\n",
       "        text-align: right;\n",
       "    }\n",
       "</style>\n",
       "<table border=\"1\" class=\"dataframe\">\n",
       "  <thead>\n",
       "    <tr style=\"text-align: right;\">\n",
       "      <th></th>\n",
       "      <th>percentage_shots_three_pointers</th>\n",
       "      <th>percentage_sixteen_foot_plus_two_pointers</th>\n",
       "    </tr>\n",
       "  </thead>\n",
       "  <tbody>\n",
       "    <tr>\n",
       "      <th>2009-10</th>\n",
       "      <td>0.332</td>\n",
       "      <td>0.290</td>\n",
       "    </tr>\n",
       "    <tr>\n",
       "      <th>2010-11</th>\n",
       "      <td>0.325</td>\n",
       "      <td>0.280</td>\n",
       "    </tr>\n",
       "    <tr>\n",
       "      <th>2011-12</th>\n",
       "      <td>0.409</td>\n",
       "      <td>0.301</td>\n",
       "    </tr>\n",
       "    <tr>\n",
       "      <th>2012-13</th>\n",
       "      <td>0.432</td>\n",
       "      <td>0.265</td>\n",
       "    </tr>\n",
       "    <tr>\n",
       "      <th>2013-14</th>\n",
       "      <td>0.445</td>\n",
       "      <td>0.245</td>\n",
       "    </tr>\n",
       "    <tr>\n",
       "      <th>2014-15</th>\n",
       "      <td>0.482</td>\n",
       "      <td>0.163</td>\n",
       "    </tr>\n",
       "    <tr>\n",
       "      <th>2015-16</th>\n",
       "      <td>0.554</td>\n",
       "      <td>0.088</td>\n",
       "    </tr>\n",
       "    <tr>\n",
       "      <th>2016-17</th>\n",
       "      <td>0.547</td>\n",
       "      <td>0.116</td>\n",
       "    </tr>\n",
       "    <tr>\n",
       "      <th>2017-18</th>\n",
       "      <td>0.580</td>\n",
       "      <td>0.108</td>\n",
       "    </tr>\n",
       "    <tr>\n",
       "      <th>2018-19</th>\n",
       "      <td>0.604</td>\n",
       "      <td>0.110</td>\n",
       "    </tr>\n",
       "    <tr>\n",
       "      <th>2019-20</th>\n",
       "      <td>0.598</td>\n",
       "      <td>0.122</td>\n",
       "    </tr>\n",
       "    <tr>\n",
       "      <th>Career</th>\n",
       "      <td>0.481</td>\n",
       "      <td>0.184</td>\n",
       "    </tr>\n",
       "  </tbody>\n",
       "</table>\n",
       "</div>"
      ],
      "text/plain": [
       "         percentage_shots_three_pointers  \\\n",
       "2009-10                            0.332   \n",
       "2010-11                            0.325   \n",
       "2011-12                            0.409   \n",
       "2012-13                            0.432   \n",
       "2013-14                            0.445   \n",
       "2014-15                            0.482   \n",
       "2015-16                            0.554   \n",
       "2016-17                            0.547   \n",
       "2017-18                            0.580   \n",
       "2018-19                            0.604   \n",
       "2019-20                            0.598   \n",
       "Career                             0.481   \n",
       "\n",
       "         percentage_sixteen_foot_plus_two_pointers  \n",
       "2009-10                                      0.290  \n",
       "2010-11                                      0.280  \n",
       "2011-12                                      0.301  \n",
       "2012-13                                      0.265  \n",
       "2013-14                                      0.245  \n",
       "2014-15                                      0.163  \n",
       "2015-16                                      0.088  \n",
       "2016-17                                      0.116  \n",
       "2017-18                                      0.108  \n",
       "2018-19                                      0.110  \n",
       "2019-20                                      0.122  \n",
       "Career                                       0.184  "
      ]
     },
     "execution_count": 3,
     "metadata": {},
     "output_type": "execute_result"
    }
   ],
   "source": [
    "#To searh by individual player\n",
    "\n",
    "from sportsreference.nba.roster import Player\n",
    "\n",
    "chefcurry= Player(\"curryst01\")\n",
    "chef_df= chefcurry.dataframe\n",
    "chef_df\n",
    "chef_df.columns\n",
    "df2= chef_df[['percentage_shots_three_pointers', 'percentage_sixteen_foot_plus_two_pointers']]\n",
    "df2\n"
   ]
  },
  {
   "cell_type": "code",
   "execution_count": null,
   "metadata": {},
   "outputs": [],
   "source": [
    "\n",
    "\n"
   ]
  },
  {
   "cell_type": "code",
   "execution_count": 4,
   "metadata": {},
   "outputs": [
    {
     "data": {
      "text/html": [
       "<div>\n",
       "<style scoped>\n",
       "    .dataframe tbody tr th:only-of-type {\n",
       "        vertical-align: middle;\n",
       "    }\n",
       "\n",
       "    .dataframe tbody tr th {\n",
       "        vertical-align: top;\n",
       "    }\n",
       "\n",
       "    .dataframe thead th {\n",
       "        text-align: right;\n",
       "    }\n",
       "</style>\n",
       "<table border=\"1\" class=\"dataframe\">\n",
       "  <thead>\n",
       "    <tr style=\"text-align: right;\">\n",
       "      <th></th>\n",
       "      <th>abbreviation</th>\n",
       "      <th>assists</th>\n",
       "      <th>blocks</th>\n",
       "      <th>defensive_rebounds</th>\n",
       "      <th>field_goal_attempts</th>\n",
       "      <th>field_goal_percentage</th>\n",
       "      <th>field_goals</th>\n",
       "      <th>free_throw_attempts</th>\n",
       "      <th>free_throw_percentage</th>\n",
       "      <th>free_throws</th>\n",
       "      <th>...</th>\n",
       "      <th>rank</th>\n",
       "      <th>steals</th>\n",
       "      <th>three_point_field_goal_attempts</th>\n",
       "      <th>three_point_field_goal_percentage</th>\n",
       "      <th>three_point_field_goals</th>\n",
       "      <th>total_rebounds</th>\n",
       "      <th>turnovers</th>\n",
       "      <th>two_point_field_goal_attempts</th>\n",
       "      <th>two_point_field_goal_percentage</th>\n",
       "      <th>two_point_field_goals</th>\n",
       "    </tr>\n",
       "  </thead>\n",
       "  <tbody>\n",
       "    <tr>\n",
       "      <th>CHI</th>\n",
       "      <td>CHI</td>\n",
       "      <td>2142</td>\n",
       "      <td>332</td>\n",
       "      <td>2461</td>\n",
       "      <td>6923</td>\n",
       "      <td>0.473</td>\n",
       "      <td>3277</td>\n",
       "      <td>1848</td>\n",
       "      <td>0.747</td>\n",
       "      <td>1381</td>\n",
       "      <td>...</td>\n",
       "      <td>1</td>\n",
       "      <td>716</td>\n",
       "      <td>1403</td>\n",
       "      <td>0.373</td>\n",
       "      <td>523</td>\n",
       "      <td>3696</td>\n",
       "      <td>1109</td>\n",
       "      <td>5520</td>\n",
       "      <td>0.499</td>\n",
       "      <td>2754</td>\n",
       "    </tr>\n",
       "  </tbody>\n",
       "</table>\n",
       "<p>1 rows × 47 columns</p>\n",
       "</div>"
      ],
      "text/plain": [
       "    abbreviation  assists  blocks  defensive_rebounds  field_goal_attempts  \\\n",
       "CHI          CHI     2142     332                2461                 6923   \n",
       "\n",
       "     field_goal_percentage  field_goals  free_throw_attempts  \\\n",
       "CHI                  0.473         3277                 1848   \n",
       "\n",
       "     free_throw_percentage  free_throws  ...  rank  steals  \\\n",
       "CHI                  0.747         1381  ...     1     716   \n",
       "\n",
       "    three_point_field_goal_attempts  three_point_field_goal_percentage  \\\n",
       "CHI                            1403                              0.373   \n",
       "\n",
       "     three_point_field_goals  total_rebounds  turnovers  \\\n",
       "CHI                      523            3696       1109   \n",
       "\n",
       "     two_point_field_goal_attempts  two_point_field_goal_percentage  \\\n",
       "CHI                           5520                            0.499   \n",
       "\n",
       "     two_point_field_goals  \n",
       "CHI                   2754  \n",
       "\n",
       "[1 rows x 47 columns]"
      ]
     },
     "execution_count": 4,
     "metadata": {},
     "output_type": "execute_result"
    }
   ],
   "source": [
    "#Simple form to call Team Data by year\n",
    "\n",
    "from sportsreference.nba.teams import Teams\n",
    "teams = Teams(year='1997')\n",
    "\n",
    "#Select Team to Analyze\n",
    "bulls = teams('CHI')\n",
    "\n",
    "# Df that motha\n",
    "bulls.dataframe"
   ]
  },
  {
   "cell_type": "code",
   "execution_count": 5,
   "metadata": {},
   "outputs": [],
   "source": [
    "#You can see attributes of what you can call by using:\n",
    "bulls?"
   ]
  },
  {
   "cell_type": "code",
   "execution_count": null,
   "metadata": {},
   "outputs": [],
   "source": [
    "\n"
   ]
  },
  {
   "cell_type": "code",
   "execution_count": null,
   "metadata": {},
   "outputs": [],
   "source": []
  },
  {
   "cell_type": "code",
   "execution_count": 6,
   "metadata": {},
   "outputs": [
    {
     "name": "stdout",
     "output_type": "stream",
     "text": [
      "Object `det` not found.\n"
     ]
    }
   ],
   "source": [
    "det?"
   ]
  },
  {
   "cell_type": "code",
   "execution_count": 7,
   "metadata": {},
   "outputs": [
    {
     "ename": "NameError",
     "evalue": "name 'det' is not defined",
     "output_type": "error",
     "traceback": [
      "\u001b[1;31m---------------------------------------------------------------------------\u001b[0m",
      "\u001b[1;31mNameError\u001b[0m                                 Traceback (most recent call last)",
      "\u001b[1;32m<ipython-input-7-531bab2f986f>\u001b[0m in \u001b[0;36m<module>\u001b[1;34m\u001b[0m\n\u001b[1;32m----> 1\u001b[1;33m \u001b[0mdet\u001b[0m\u001b[1;33m.\u001b[0m\u001b[0mdataframe\u001b[0m\u001b[1;33m.\u001b[0m\u001b[0mcolumns\u001b[0m\u001b[1;33m\u001b[0m\u001b[1;33m\u001b[0m\u001b[0m\n\u001b[0m",
      "\u001b[1;31mNameError\u001b[0m: name 'det' is not defined"
     ]
    }
   ],
   "source": [
    "det.dataframe.columns"
   ]
  },
  {
   "cell_type": "code",
   "execution_count": null,
   "metadata": {},
   "outputs": [],
   "source": []
  }
 ],
 "metadata": {
  "kernelspec": {
   "display_name": "Python 3",
   "language": "python",
   "name": "python3"
  },
  "language_info": {
   "codemirror_mode": {
    "name": "ipython",
    "version": 3
   },
   "file_extension": ".py",
   "mimetype": "text/x-python",
   "name": "python",
   "nbconvert_exporter": "python",
   "pygments_lexer": "ipython3",
   "version": "3.7.6"
  }
 },
 "nbformat": 4,
 "nbformat_minor": 2
}
