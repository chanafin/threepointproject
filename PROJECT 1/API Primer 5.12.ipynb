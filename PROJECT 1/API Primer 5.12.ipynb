{
 "cells": [
  {
   "cell_type": "code",
   "execution_count": 7,
   "metadata": {},
   "outputs": [
    {
     "name": "stdout",
     "output_type": "stream",
     "text": [
      "Requirement already satisfied: sportsreference in c:\\users\\cfing\\anaconda3\\lib\\site-packages (0.5.2)\n",
      "Requirement already satisfied: pyquery>=1.4.0 in c:\\users\\cfing\\anaconda3\\lib\\site-packages (from sportsreference) (1.4.1)\n",
      "Requirement already satisfied: requests>=2.18.4 in c:\\users\\cfing\\anaconda3\\lib\\site-packages (from sportsreference) (2.20.0)\n",
      "Requirement already satisfied: pandas>=0.24.1 in c:\\users\\cfing\\anaconda3\\lib\\site-packages (from sportsreference) (1.0.1)\n",
      "Requirement already satisfied: cssselect>0.7.9 in c:\\users\\cfing\\anaconda3\\lib\\site-packages (from pyquery>=1.4.0->sportsreference) (1.1.0)\n",
      "Requirement already satisfied: lxml>=2.1 in c:\\users\\cfing\\anaconda3\\lib\\site-packages (from pyquery>=1.4.0->sportsreference) (4.2.5)\n",
      "Requirement already satisfied: urllib3<1.25,>=1.21.1 in c:\\users\\cfing\\anaconda3\\lib\\site-packages (from requests>=2.18.4->sportsreference) (1.24.3)\n",
      "Requirement already satisfied: idna<2.8,>=2.5 in c:\\users\\cfing\\anaconda3\\lib\\site-packages (from requests>=2.18.4->sportsreference) (2.7)\n",
      "Requirement already satisfied: certifi>=2017.4.17 in c:\\users\\cfing\\anaconda3\\lib\\site-packages (from requests>=2.18.4->sportsreference) (2018.10.15)\n",
      "Requirement already satisfied: chardet<3.1.0,>=3.0.2 in c:\\users\\cfing\\anaconda3\\lib\\site-packages (from requests>=2.18.4->sportsreference) (3.0.4)\n",
      "Requirement already satisfied: python-dateutil>=2.6.1 in c:\\users\\cfing\\anaconda3\\lib\\site-packages (from pandas>=0.24.1->sportsreference) (2.8.1)\n",
      "Requirement already satisfied: numpy>=1.13.3 in c:\\users\\cfing\\anaconda3\\lib\\site-packages (from pandas>=0.24.1->sportsreference) (1.18.1)\n",
      "Requirement already satisfied: pytz>=2017.2 in c:\\users\\cfing\\anaconda3\\lib\\site-packages (from pandas>=0.24.1->sportsreference) (2018.6)\n",
      "Requirement already satisfied: six>=1.5 in c:\\users\\cfing\\anaconda3\\lib\\site-packages (from python-dateutil>=2.6.1->pandas>=0.24.1->sportsreference) (1.14.0)\n"
     ]
    }
   ],
   "source": [
    "## Before using this package, you should install it through pip first (remove the comment before running)\n",
    "!pip install sportsreference"
   ]
  },
  {
   "cell_type": "code",
   "execution_count": 50,
   "metadata": {},
   "outputs": [],
   "source": [
    "# import pandas\n",
    "import pandas as pd"
   ]
  },
  {
   "cell_type": "code",
   "execution_count": 95,
   "metadata": {
    "scrolled": true
   },
   "outputs": [
    {
     "data": {
      "text/plain": [
       "Index(['and_ones', 'assist_percentage', 'assists', 'block_percentage',\n",
       "       'blocking_fouls', 'blocks', 'box_plus_minus', 'center_percentage',\n",
       "       'defensive_box_plus_minus', 'defensive_rebound_percentage',\n",
       "       'defensive_rebounds', 'defensive_win_shares', 'dunks',\n",
       "       'effective_field_goal_percentage', 'field_goal_attempts',\n",
       "       'field_goal_perc_sixteen_foot_plus_two_pointers',\n",
       "       'field_goal_perc_ten_to_sixteen_feet',\n",
       "       'field_goal_perc_three_to_ten_feet',\n",
       "       'field_goal_perc_zero_to_three_feet', 'field_goal_percentage',\n",
       "       'field_goals', 'free_throw_attempt_rate', 'free_throw_attempts',\n",
       "       'free_throw_percentage', 'free_throws', 'games_played', 'games_started',\n",
       "       'half_court_heaves', 'half_court_heaves_made', 'height',\n",
       "       'lost_ball_turnovers', 'minutes_played', 'nationality',\n",
       "       'net_plus_minus', 'offensive_box_plus_minus', 'offensive_fouls',\n",
       "       'offensive_rebound_percentage', 'offensive_rebounds',\n",
       "       'offensive_win_shares', 'on_court_plus_minus', 'other_turnovers',\n",
       "       'passing_turnovers', 'percentage_field_goals_as_dunks',\n",
       "       'percentage_of_three_pointers_from_corner',\n",
       "       'percentage_shots_three_pointers', 'percentage_shots_two_pointers',\n",
       "       'percentage_sixteen_foot_plus_two_pointers',\n",
       "       'percentage_ten_to_sixteen_footers', 'percentage_three_to_ten_footers',\n",
       "       'percentage_zero_to_three_footers', 'personal_fouls',\n",
       "       'player_efficiency_rating', 'player_id', 'point_guard_percentage',\n",
       "       'points', 'points_generated_by_assists', 'position',\n",
       "       'power_forward_percentage', 'salary', 'shooting_distance',\n",
       "       'shooting_fouls', 'shooting_fouls_drawn', 'shooting_guard_percentage',\n",
       "       'shots_blocked', 'small_forward_percentage', 'steal_percentage',\n",
       "       'steals', 'take_fouls', 'team_abbreviation', 'three_point_attempt_rate',\n",
       "       'three_point_attempts', 'three_point_percentage',\n",
       "       'three_point_shot_percentage_from_corner', 'three_pointers',\n",
       "       'three_pointers_assisted_percentage', 'total_rebound_percentage',\n",
       "       'total_rebounds', 'true_shooting_percentage', 'turnover_percentage',\n",
       "       'turnovers', 'two_point_attempts', 'two_point_percentage',\n",
       "       'two_pointers', 'two_pointers_assisted_percentage', 'usage_percentage',\n",
       "       'value_over_replacement_player', 'weight', 'win_shares',\n",
       "       'win_shares_per_48_minutes'],\n",
       "      dtype='object')"
      ]
     },
     "execution_count": 95,
     "metadata": {},
     "output_type": "execute_result"
    }
   ],
   "source": [
    "#To searh by individual player\n",
    "\n",
    "from sportsreference.nba.roster import Player\n",
    "\n",
    "chefcurry= Player(\"curryst01\")\n",
    "chef_df= chefcurry.dataframe\n",
    "chef_df\n",
    "chef_df.columns\n",
    "df2= chef_df[['percentage_shots_three_pointers', 'percentage_sixteen_foot_plus_two_pointers']]\n",
    "df2\n"
   ]
  },
  {
   "cell_type": "code",
   "execution_count": null,
   "metadata": {},
   "outputs": [],
   "source": [
    "\n",
    "\n"
   ]
  },
  {
   "cell_type": "code",
   "execution_count": 94,
   "metadata": {},
   "outputs": [
    {
     "ename": "SyntaxError",
     "evalue": "positional argument follows keyword argument (<ipython-input-94-ec30661d0f4a>, line 4)",
     "output_type": "error",
     "traceback": [
      "\u001b[1;36m  File \u001b[1;32m\"<ipython-input-94-ec30661d0f4a>\"\u001b[1;36m, line \u001b[1;32m4\u001b[0m\n\u001b[1;33m    teams = Teams(year='1997', '1998')\u001b[0m\n\u001b[1;37m                              ^\u001b[0m\n\u001b[1;31mSyntaxError\u001b[0m\u001b[1;31m:\u001b[0m positional argument follows keyword argument\n"
     ]
    }
   ],
   "source": [
    "#Simple form to call Team Data by year\n",
    "\n",
    "from sportsreference.nba.teams import Teams\n",
    "teams = Teams(year='1997')\n",
    "\n",
    "#Select Team to Analyze\n",
    "bulls = teams('CHI')\n",
    "\n",
    "# Df that motha\n",
    "bulls.dataframe"
   ]
  },
  {
   "cell_type": "code",
   "execution_count": 96,
   "metadata": {},
   "outputs": [],
   "source": [
    "#You can see attributes of what you can call by using:\n",
    "bulls?"
   ]
  },
  {
   "cell_type": "code",
   "execution_count": 90,
   "metadata": {},
   "outputs": [
    {
     "data": {
      "text/plain": [
       "Index(['abbreviation', 'assists', 'blocks', 'defensive_rebounds',\n",
       "       'field_goal_attempts', 'field_goal_percentage', 'field_goals',\n",
       "       'free_throw_attempts', 'free_throw_percentage', 'free_throws',\n",
       "       'games_played', 'minutes_played', 'name', 'offensive_rebounds',\n",
       "       'opp_assists', 'opp_blocks', 'opp_defensive_rebounds',\n",
       "       'opp_field_goal_attempts', 'opp_field_goal_percentage',\n",
       "       'opp_field_goals', 'opp_free_throw_attempts',\n",
       "       'opp_free_throw_percentage', 'opp_free_throws',\n",
       "       'opp_offensive_rebounds', 'opp_personal_fouls', 'opp_points',\n",
       "       'opp_steals', 'opp_three_point_field_goal_attempts',\n",
       "       'opp_three_point_field_goal_percentage', 'opp_three_point_field_goals',\n",
       "       'opp_total_rebounds', 'opp_turnovers',\n",
       "       'opp_two_point_field_goal_attempts',\n",
       "       'opp_two_point_field_goal_percentage', 'opp_two_point_field_goals',\n",
       "       'personal_fouls', 'points', 'rank', 'steals',\n",
       "       'three_point_field_goal_attempts', 'three_point_field_goal_percentage',\n",
       "       'three_point_field_goals', 'total_rebounds', 'turnovers',\n",
       "       'two_point_field_goal_attempts', 'two_point_field_goal_percentage',\n",
       "       'two_point_field_goals'],\n",
       "      dtype='object')"
      ]
     },
     "execution_count": 90,
     "metadata": {},
     "output_type": "execute_result"
    }
   ],
   "source": [
    "\n"
   ]
  },
  {
   "cell_type": "code",
   "execution_count": 85,
   "metadata": {},
   "outputs": [
    {
     "data": {
      "text/html": [
       "<div>\n",
       "<style scoped>\n",
       "    .dataframe tbody tr th:only-of-type {\n",
       "        vertical-align: middle;\n",
       "    }\n",
       "\n",
       "    .dataframe tbody tr th {\n",
       "        vertical-align: top;\n",
       "    }\n",
       "\n",
       "    .dataframe thead th {\n",
       "        text-align: right;\n",
       "    }\n",
       "</style>\n",
       "<table border=\"1\" class=\"dataframe\">\n",
       "  <thead>\n",
       "    <tr style=\"text-align: right;\">\n",
       "      <th></th>\n",
       "      <th>abbreviation</th>\n",
       "      <th>assists</th>\n",
       "      <th>blocks</th>\n",
       "      <th>defensive_rebounds</th>\n",
       "      <th>field_goal_attempts</th>\n",
       "      <th>field_goal_percentage</th>\n",
       "      <th>field_goals</th>\n",
       "      <th>free_throw_attempts</th>\n",
       "      <th>free_throw_percentage</th>\n",
       "      <th>free_throws</th>\n",
       "      <th>...</th>\n",
       "      <th>rank</th>\n",
       "      <th>steals</th>\n",
       "      <th>three_point_field_goal_attempts</th>\n",
       "      <th>three_point_field_goal_percentage</th>\n",
       "      <th>three_point_field_goals</th>\n",
       "      <th>total_rebounds</th>\n",
       "      <th>turnovers</th>\n",
       "      <th>two_point_field_goal_attempts</th>\n",
       "      <th>two_point_field_goal_percentage</th>\n",
       "      <th>two_point_field_goals</th>\n",
       "    </tr>\n",
       "  </thead>\n",
       "  <tbody>\n",
       "    <tr>\n",
       "      <th>DET</th>\n",
       "      <td>DET</td>\n",
       "      <td>1868</td>\n",
       "      <td>317</td>\n",
       "      <td>2756</td>\n",
       "      <td>7129</td>\n",
       "      <td>0.45</td>\n",
       "      <td>3208</td>\n",
       "      <td>1621</td>\n",
       "      <td>0.745</td>\n",
       "      <td>1207</td>\n",
       "      <td>...</td>\n",
       "      <td>22</td>\n",
       "      <td>628</td>\n",
       "      <td>2373</td>\n",
       "      <td>0.373</td>\n",
       "      <td>886</td>\n",
       "      <td>3586</td>\n",
       "      <td>1103</td>\n",
       "      <td>4756</td>\n",
       "      <td>0.488</td>\n",
       "      <td>2322</td>\n",
       "    </tr>\n",
       "  </tbody>\n",
       "</table>\n",
       "<p>1 rows × 47 columns</p>\n",
       "</div>"
      ],
      "text/plain": [
       "    abbreviation  assists  blocks  defensive_rebounds  field_goal_attempts  \\\n",
       "DET          DET     1868     317                2756                 7129   \n",
       "\n",
       "     field_goal_percentage  field_goals  free_throw_attempts  \\\n",
       "DET                   0.45         3208                 1621   \n",
       "\n",
       "     free_throw_percentage  free_throws  ...  rank  steals  \\\n",
       "DET                  0.745         1207  ...    22     628   \n",
       "\n",
       "    three_point_field_goal_attempts  three_point_field_goal_percentage  \\\n",
       "DET                            2373                              0.373   \n",
       "\n",
       "     three_point_field_goals  total_rebounds  turnovers  \\\n",
       "DET                      886            3586       1103   \n",
       "\n",
       "     two_point_field_goal_attempts  two_point_field_goal_percentage  \\\n",
       "DET                           4756                            0.488   \n",
       "\n",
       "     two_point_field_goals  \n",
       "DET                   2322  \n",
       "\n",
       "[1 rows x 47 columns]"
      ]
     },
     "execution_count": 85,
     "metadata": {},
     "output_type": "execute_result"
    }
   ],
   "source": []
  },
  {
   "cell_type": "code",
   "execution_count": 75,
   "metadata": {},
   "outputs": [],
   "source": [
    "det?"
   ]
  },
  {
   "cell_type": "code",
   "execution_count": 78,
   "metadata": {},
   "outputs": [
    {
     "data": {
      "text/plain": [
       "Index(['abbreviation', 'assists', 'blocks', 'defensive_rebounds',\n",
       "       'field_goal_attempts', 'field_goal_percentage', 'field_goals',\n",
       "       'free_throw_attempts', 'free_throw_percentage', 'free_throws',\n",
       "       'games_played', 'minutes_played', 'name', 'offensive_rebounds',\n",
       "       'opp_assists', 'opp_blocks', 'opp_defensive_rebounds',\n",
       "       'opp_field_goal_attempts', 'opp_field_goal_percentage',\n",
       "       'opp_field_goals', 'opp_free_throw_attempts',\n",
       "       'opp_free_throw_percentage', 'opp_free_throws',\n",
       "       'opp_offensive_rebounds', 'opp_personal_fouls', 'opp_points',\n",
       "       'opp_steals', 'opp_three_point_field_goal_attempts',\n",
       "       'opp_three_point_field_goal_percentage', 'opp_three_point_field_goals',\n",
       "       'opp_total_rebounds', 'opp_turnovers',\n",
       "       'opp_two_point_field_goal_attempts',\n",
       "       'opp_two_point_field_goal_percentage', 'opp_two_point_field_goals',\n",
       "       'personal_fouls', 'points', 'rank', 'steals',\n",
       "       'three_point_field_goal_attempts', 'three_point_field_goal_percentage',\n",
       "       'three_point_field_goals', 'total_rebounds', 'turnovers',\n",
       "       'two_point_field_goal_attempts', 'two_point_field_goal_percentage',\n",
       "       'two_point_field_goals'],\n",
       "      dtype='object')"
      ]
     },
     "execution_count": 78,
     "metadata": {},
     "output_type": "execute_result"
    }
   ],
   "source": [
    "det.dataframe.columns"
   ]
  },
  {
   "cell_type": "code",
   "execution_count": null,
   "metadata": {},
   "outputs": [],
   "source": []
  }
 ],
 "metadata": {
  "kernelspec": {
   "display_name": "Python 3",
   "language": "python",
   "name": "python3"
  },
  "language_info": {
   "codemirror_mode": {
    "name": "ipython",
    "version": 3
   },
   "file_extension": ".py",
   "mimetype": "text/x-python",
   "name": "python",
   "nbconvert_exporter": "python",
   "pygments_lexer": "ipython3",
   "version": "3.7.6"
  }
 },
 "nbformat": 4,
 "nbformat_minor": 2
}
