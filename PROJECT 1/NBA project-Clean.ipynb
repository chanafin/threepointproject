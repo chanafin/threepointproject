{
 "cells": [
  {
   "cell_type": "code",
   "execution_count": 1,
   "metadata": {},
   "outputs": [],
   "source": [
    "#!pip install nba_api\n",
    "import pandas as pd\n",
    "import csv\n",
    "import matplotlib.pyplot as plt\n",
    "import numpy as np\n",
    "\n",
    "closed_file = 'NBA PROJECTS.csv'\n",
    "nba = pd.read_csv(closed_file)\n",
    "nba = nba.loc[(nba['Tm'] != 'TOT')& (nba['Year'] >= 1990)] \n",
    "#print(nba.columns)"
   ]
  },
  {
   "cell_type": "code",
   "execution_count": 2,
   "metadata": {},
   "outputs": [
    {
     "name": "stdout",
     "output_type": "stream",
     "text": [
      "      Season   Lg                 Team   W   L   W/L%  Finish  \\\n",
      "0     2018.0  NBA       Boston Celtics  29  10  0.744       1   \n",
      "1     2017.0  NBA       Boston Celtics  53  29  0.646       1   \n",
      "2     2016.0  NBA       Boston Celtics  48  34  0.585       2   \n",
      "3     2015.0  NBA       Boston Celtics  40  42  0.488       2   \n",
      "4     2014.0  NBA       Boston Celtics  25  57  0.305       4   \n",
      "...      ...  ...                  ...  ..  ..    ...     ...   \n",
      "1478  2000.0  NBA  Vancouver Grizzlies  22  60  0.268       7   \n",
      "1479  1999.0  NBA  Vancouver Grizzlies   8  42  0.160       7   \n",
      "1480  1998.0  NBA  Vancouver Grizzlies  19  63  0.232       6   \n",
      "1481  1997.0  NBA  Vancouver Grizzlies  14  68  0.171       7   \n",
      "1482  1996.0  NBA  Vancouver Grizzlies  15  67  0.183       7   \n",
      "\n",
      "                    Playoffs                              Coaches  \\\n",
      "0                        NaN                   B. Stevens (29-10)   \n",
      "1       Lost E. Conf. Finals                   B. Stevens (53-29)   \n",
      "2     Lost E. Conf. 1st Rnd.                   B. Stevens (48-34)   \n",
      "3     Lost E. Conf. 1st Rnd.                   B. Stevens (40-42)   \n",
      "4                        NaN                   B. Stevens (25-57)   \n",
      "...                      ...                                  ...   \n",
      "1478                     NaN    B. Hill (4-18) L. Hollins (18-42)   \n",
      "1479                     NaN                       B. Hill (8-42)   \n",
      "1480                     NaN                      B. Hill (19-63)   \n",
      "1481                     NaN  B. Winters (8-35) S. Jackson (6-33)   \n",
      "1482                     NaN                   B. Winters (15-67)   \n",
      "\n",
      "                    Top WS  Made Playoffs  \n",
      "0          K. Irving (5.7)          False  \n",
      "1         I. Thomas (12.5)           True  \n",
      "2          I. Thomas (9.7)           True  \n",
      "3          T. Zeller (6.5)           True  \n",
      "4            B. Bass (5.1)          False  \n",
      "...                    ...            ...  \n",
      "1478  S. Abdur-Rahim (8.8)          False  \n",
      "1479  S. Abdur-Rahim (4.6)          False  \n",
      "1480  S. Abdur-Rahim (6.9)          False  \n",
      "1481      G. Anthony (3.5)          False  \n",
      "1482      G. Anthony (4.8)          False  \n",
      "\n",
      "[1483 rows x 11 columns]\n"
     ]
    }
   ],
   "source": [
    "record_file = 'NBA Season Records.csv'\n",
    "records = pd.read_csv(record_file)\n",
    "records = records.drop(['SRS','Pace','Rel_Pace','ORtg','Rel_ORtg','DRtg','Rel_DRtg'], axis = 1)\n",
    "ssns = []\n",
    "for year in records['Season']:\n",
    "    yr = int(year.split('-')[1])\n",
    "    if ((10 <= yr) & (yr < 20)):\n",
    "        ssns.append(float('20' + str(yr)))\n",
    "    elif((0 <= yr) & (yr < 10)):\n",
    "        ssns.append(float('200' + str(yr)))\n",
    "    else:\n",
    "        ssns.append(float('19' + str(yr)))\n",
    "seasons = pd.Series(ssns)\n",
    "records['Season'] = seasons\n",
    "\n",
    "records['Team'] = records['Team'].str.replace('*', '')\n",
    "records['Made Playoffs'] = records['Playoffs'].notna()\n",
    "print(records)"
   ]
  },
  {
   "cell_type": "code",
   "execution_count": null,
   "metadata": {},
   "outputs": [],
   "source": []
  },
  {
   "cell_type": "code",
   "execution_count": 3,
   "metadata": {},
   "outputs": [
    {
     "name": "stdout",
     "output_type": "stream",
     "text": [
      "['ORL' 'DEN' 'DET' 'SAC' 'WSB' 'DAL' 'MIL' 'CHH' 'PHI' 'SAS' 'CHI' 'BOS'\n",
      " 'UTA' 'LAC' 'SEA' 'ATL' 'PHO' 'CLE' 'GSW' 'NJN' 'HOU' 'MIN' 'POR' 'LAL'\n",
      " 'NYK' 'MIA' 'IND' 'VAN' 'TOR' 'WAS' 'MEM' 'NOH' 'CHA' 'NOK' 'OKC' 'BRK'\n",
      " 'NOP' 'CHO']\n",
      "['ORL' 'DEN' 'DET' 'SAC' 'WAS' 'DAL' 'MIL' 'NOP' 'PHI' 'SAS' 'CHI' 'BOS'\n",
      " 'UTA' 'LAC' 'OKC' 'ATL' 'PHO' 'CLE' 'GSW' 'BRK' 'HOU' 'MIN' 'POR' 'LAL'\n",
      " 'NYK' 'MIA' 'IND' 'MEM' 'TOR' 'CHA']\n",
      "         Year             Player   Tm    3PA\n",
      "9547   1990.0         Mark Acres  ORL    4.0\n",
      "9548   1990.0      Michael Adams  DEN  432.0\n",
      "9549   1990.0       Mark Aguirre  DET   93.0\n",
      "9550   1990.0        Danny Ainge  SAC  289.0\n",
      "9551   1990.0        Mark Alarie  WAS   49.0\n",
      "...       ...                ...  ...    ...\n",
      "24686  2017.0        Cody Zeller  CHA    1.0\n",
      "24687  2017.0       Tyler Zeller  BOS    1.0\n",
      "24688  2017.0  Stephen Zimmerman  ORL    0.0\n",
      "24689  2017.0        Paul Zipser  CHI   99.0\n",
      "24690  2017.0        Ivica Zubac  LAL    3.0\n",
      "\n",
      "[13777 rows x 4 columns]\n"
     ]
    }
   ],
   "source": [
    "print(nba['Tm'].unique())\n",
    "nba = nba.replace({'Tm':{'WSB':'WAS', 'VAN': 'MEM', 'NJN': 'BRK', 'SEA': 'OKC', \n",
    "                         'CHH':'NOP', 'NOH': 'NOP', 'NOK': 'NOP', 'CHO':'CHA' }})\n",
    "print(nba[\"Tm\"].unique())\n",
    "print(nba[['Year', 'Player', 'Tm', '3PA']])\n",
    "\n",
    "\n",
    "# SEA---> OKC \n",
    "#CHH NOH NOK-----> NOP \n",
    "#CHO--->CHA"
   ]
  },
  {
   "cell_type": "code",
   "execution_count": 4,
   "metadata": {},
   "outputs": [
    {
     "data": {
      "text/plain": [
       "Tm   Year  \n",
       "ATL  1990.0    42.8\n",
       "     1991.0    43.8\n",
       "     1992.0    37.5\n",
       "     1993.0    40.0\n",
       "     1994.0    56.8\n",
       "               ... \n",
       "WAS  2013.0    34.5\n",
       "     2014.0    45.3\n",
       "     2015.0    45.4\n",
       "     2016.0    39.7\n",
       "     2017.0    46.9\n",
       "Name: WS, Length: 813, dtype: float64"
      ]
     },
     "execution_count": 4,
     "metadata": {},
     "output_type": "execute_result"
    }
   ],
   "source": [
    "teams = nba.groupby(['Tm', 'Year'])\n",
    "teams['WS'].sum()"
   ]
  },
  {
   "cell_type": "code",
   "execution_count": 5,
   "metadata": {},
   "outputs": [
    {
     "data": {
      "text/plain": [
       "<matplotlib.collections.PathCollection at 0x1801a4f9808>"
      ]
     },
     "execution_count": 5,
     "metadata": {},
     "output_type": "execute_result"
    },
    {
     "data": {
      "image/png": "[encoded data removed]",
      "text/plain": [
       "<Figure size 432x288 with 1 Axes>"
      ]
     },
     "metadata": {
      "needs_background": "light"
     },
     "output_type": "display_data"
    }
   ],
   "source": [
    "x = teams['3PA'].mean()\n",
    "y = teams['WS'].mean()\n",
    "plt.scatter(x,y)"
   ]
  },
  {
   "cell_type": "code",
   "execution_count": null,
   "metadata": {},
   "outputs": [],
   "source": [
    "\n"
   ]
  },
  {
   "cell_type": "code",
   "execution_count": null,
   "metadata": {},
   "outputs": [],
   "source": []
  },
  {
   "cell_type": "code",
   "execution_count": null,
   "metadata": {},
   "outputs": [],
   "source": []
  },
  {
   "cell_type": "code",
   "execution_count": null,
   "metadata": {},
   "outputs": [],
   "source": []
  },
  {
   "cell_type": "code",
   "execution_count": null,
   "metadata": {},
   "outputs": [],
   "source": []
  }
 ],
 "metadata": {
  "kernelspec": {
   "display_name": "Python 3",
   "language": "python",
   "name": "python3"
  },
  "language_info": {
   "codemirror_mode": {
    "name": "ipython",
    "version": 3
   },
   "file_extension": ".py",
   "mimetype": "text/x-python",
   "name": "python",
   "nbconvert_exporter": "python",
   "pygments_lexer": "ipython3",
   "version": "3.7.4"
  }
 },
 "nbformat": 4,
 "nbformat_minor": 2
}
