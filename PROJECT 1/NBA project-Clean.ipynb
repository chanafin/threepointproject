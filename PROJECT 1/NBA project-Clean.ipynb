{
 "cells": [
  {
   "cell_type": "code",
   "execution_count": 9,
   "metadata": {},
   "outputs": [
    {
     "name": "stdout",
     "output_type": "stream",
     "text": [
      "       Unnamed: 0    Year             Player Pos   Age   Tm     G    GS  \\\n",
      "9547         9547  1990.0         Mark Acres   C  27.0  ORL  80.0  50.0   \n",
      "9548         9548  1990.0      Michael Adams  PG  27.0  DEN  79.0  74.0   \n",
      "9549         9549  1990.0       Mark Aguirre  SF  30.0  DET  78.0  40.0   \n",
      "9550         9550  1990.0        Danny Ainge  PG  30.0  SAC  75.0  68.0   \n",
      "9551         9551  1990.0        Mark Alarie  PF  26.0  WSB  82.0  10.0   \n",
      "...           ...     ...                ...  ..   ...  ...   ...   ...   \n",
      "24686       24686  2017.0        Cody Zeller  PF  24.0  CHO  62.0  58.0   \n",
      "24687       24687  2017.0       Tyler Zeller   C  27.0  BOS  51.0   5.0   \n",
      "24688       24688  2017.0  Stephen Zimmerman   C  20.0  ORL  19.0   0.0   \n",
      "24689       24689  2017.0        Paul Zipser  SF  22.0  CHI  44.0  18.0   \n",
      "24690       24690  2017.0        Ivica Zubac   C  19.0  LAL  38.0  11.0   \n",
      "\n",
      "           MP   PER  ...    FT%    ORB    DRB    TRB    AST    STL   BLK  \\\n",
      "9547   1691.0   8.3  ...  0.692  154.0  277.0  431.0   67.0   36.0  25.0   \n",
      "9548   2690.0  15.4  ...  0.850   49.0  176.0  225.0  495.0  121.0   3.0   \n",
      "9549   2005.0  15.8  ...  0.756  117.0  188.0  305.0  145.0   34.0  19.0   \n",
      "9550   2727.0  16.1  ...  0.831   69.0  257.0  326.0  453.0  113.0  18.0   \n",
      "9551   1893.0  14.1  ...  0.812  151.0  223.0  374.0  142.0   60.0  39.0   \n",
      "...       ...   ...  ...    ...    ...    ...    ...    ...    ...   ...   \n",
      "24686  1725.0  16.7  ...  0.679  135.0  270.0  405.0   99.0   62.0  58.0   \n",
      "24687   525.0  13.0  ...  0.564   43.0   81.0  124.0   42.0    7.0  21.0   \n",
      "24688   108.0   7.3  ...  0.600   11.0   24.0   35.0    4.0    2.0   5.0   \n",
      "24689   843.0   6.9  ...  0.775   15.0  110.0  125.0   36.0   15.0  16.0   \n",
      "24690   609.0  17.0  ...  0.653   41.0  118.0  159.0   30.0   14.0  33.0   \n",
      "\n",
      "         TOV     PF     PTS  \n",
      "9547    70.0  248.0   362.0  \n",
      "9548   141.0  133.0  1221.0  \n",
      "9549   121.0  201.0  1099.0  \n",
      "9550   185.0  238.0  1342.0  \n",
      "9551   101.0  219.0   860.0  \n",
      "...      ...    ...     ...  \n",
      "24686   65.0  189.0   639.0  \n",
      "24687   20.0   61.0   178.0  \n",
      "24688    3.0   17.0    23.0  \n",
      "24689   40.0   78.0   240.0  \n",
      "24690   30.0   66.0   284.0  \n",
      "\n",
      "[13777 rows x 53 columns]\n",
      "Index(['Unnamed: 0', 'Year', 'Player', 'Pos', 'Age', 'Tm', 'G', 'GS', 'MP',\n",
      "       'PER', 'TS%', '3PAr', 'FTr', 'ORB%', 'DRB%', 'TRB%', 'AST%', 'STL%',\n",
      "       'BLK%', 'TOV%', 'USG%', 'blanl', 'OWS', 'DWS', 'WS', 'WS/48', 'blank2',\n",
      "       'OBPM', 'DBPM', 'BPM', 'VORP', 'FG', 'FGA', 'FG%', '3P', '3PA', '3P%',\n",
      "       '2P', '2PA', '2P%', 'eFG%', 'FT', 'FTA', 'FT%', 'ORB', 'DRB', 'TRB',\n",
      "       'AST', 'STL', 'BLK', 'TOV', 'PF', 'PTS'],\n",
      "      dtype='object')\n"
     ]
    }
   ],
   "source": [
    "import pandas as pd\n",
    "import csv\n",
    "import matplotlib.pyplot as plt\n",
    "\n",
    "closed_file = 'NBA PROJECTS.csv'\n",
    "\n",
    "nba = pd.read_csv(closed_file)\n",
    "\n",
    "nba = nba.loc[(nba['Tm'] != 'TOT')& (nba['Year'] >= 1990)] \n",
    "print(nba)\n",
    "print(nba.columns)"
   ]
  },
  {
   "cell_type": "code",
   "execution_count": 17,
   "metadata": {},
   "outputs": [
    {
     "name": "stdout",
     "output_type": "stream",
     "text": [
      "['ORL' 'DEN' 'DET' 'SAC' 'WAS' 'DAL' 'MIL' 'NOP' 'PHI' 'SAS' 'CHI' 'BOS'\n",
      " 'UTA' 'LAC' 'OKC' 'ATL' 'PHO' 'CLE' 'GSW' 'BRK' 'HOU' 'MIN' 'POR' 'LAL'\n",
      " 'NYK' 'MIA' 'IND' 'MEM' 'TOR' 'CHA']\n",
      "         Year             Player   Tm    3PA\n",
      "9547   1990.0         Mark Acres  ORL    4.0\n",
      "9548   1990.0      Michael Adams  DEN  432.0\n",
      "9549   1990.0       Mark Aguirre  DET   93.0\n",
      "9550   1990.0        Danny Ainge  SAC  289.0\n",
      "9551   1990.0        Mark Alarie  WAS   49.0\n",
      "...       ...                ...  ...    ...\n",
      "24686  2017.0        Cody Zeller  CHA    1.0\n",
      "24687  2017.0       Tyler Zeller  BOS    1.0\n",
      "24688  2017.0  Stephen Zimmerman  ORL    0.0\n",
      "24689  2017.0        Paul Zipser  CHI   99.0\n",
      "24690  2017.0        Ivica Zubac  LAL    3.0\n",
      "\n",
      "[13777 rows x 4 columns]\n"
     ]
    }
   ],
   "source": [
    "nba = nba.replace({'Tm':{'WSB':'WAS', 'VAN': 'MEM', 'NJN': 'BRK', 'SEA': 'OKC', \n",
    "                         'CHH':'NOP', 'NOH': 'NOP', 'NOK': 'NOP', 'CHO':'CHA' }})\n",
    "print(nba[\"Tm\"].unique())\n",
    "print(nba[['Year', 'Player', 'Tm', '3PA']])\n",
    "\n",
    "\n",
    "# SEA---> OKC \n",
    "#CHH NOH NOK-----> NOP \n",
    "#CHO--->CHA"
   ]
  },
  {
   "cell_type": "code",
   "execution_count": 22,
   "metadata": {},
   "outputs": [
    {
     "data": {
      "text/plain": [
       "Tm   Year  \n",
       "ATL  1990.0    42.8\n",
       "     1991.0    43.8\n",
       "     1992.0    37.5\n",
       "     1993.0    40.0\n",
       "     1994.0    56.8\n",
       "               ... \n",
       "WAS  2013.0    34.5\n",
       "     2014.0    45.3\n",
       "     2015.0    45.4\n",
       "     2016.0    39.7\n",
       "     2017.0    46.9\n",
       "Name: WS, Length: 813, dtype: float64"
      ]
     },
     "execution_count": 22,
     "metadata": {},
     "output_type": "execute_result"
    }
   ],
   "source": [
    "teams = nba.groupby(['Tm', 'Year'])\n",
    "teams['WS'].sum()"
   ]
  },
  {
   "cell_type": "code",
   "execution_count": 23,
   "metadata": {},
   "outputs": [
    {
     "ename": "KeyError",
     "evalue": "'Column not found: W-L%'",
     "output_type": "error",
     "traceback": [
      "\u001b[1;31m---------------------------------------------------------------------------\u001b[0m",
      "\u001b[1;31mKeyError\u001b[0m                                  Traceback (most recent call last)",
      "\u001b[1;32m<ipython-input-23-b2fe90a970a4>\u001b[0m in \u001b[0;36m<module>\u001b[1;34m\u001b[0m\n\u001b[0;32m      1\u001b[0m \u001b[0mx\u001b[0m \u001b[1;33m=\u001b[0m \u001b[0mteams\u001b[0m\u001b[1;33m[\u001b[0m\u001b[1;34m'3PA'\u001b[0m\u001b[1;33m]\u001b[0m\u001b[1;33m.\u001b[0m\u001b[0mmean\u001b[0m\u001b[1;33m(\u001b[0m\u001b[1;33m)\u001b[0m\u001b[1;33m\u001b[0m\u001b[1;33m\u001b[0m\u001b[0m\n\u001b[1;32m----> 2\u001b[1;33m \u001b[0my\u001b[0m \u001b[1;33m=\u001b[0m \u001b[0mteams\u001b[0m\u001b[1;33m[\u001b[0m\u001b[1;34m'W-L%'\u001b[0m\u001b[1;33m]\u001b[0m\u001b[1;33m.\u001b[0m\u001b[0mmean\u001b[0m\u001b[1;33m(\u001b[0m\u001b[1;33m)\u001b[0m\u001b[1;33m\u001b[0m\u001b[1;33m\u001b[0m\u001b[0m\n\u001b[0m\u001b[0;32m      3\u001b[0m \u001b[0mplt\u001b[0m\u001b[1;33m.\u001b[0m\u001b[0mscatter\u001b[0m\u001b[1;33m(\u001b[0m\u001b[0mx\u001b[0m\u001b[1;33m,\u001b[0m\u001b[0my\u001b[0m\u001b[1;33m)\u001b[0m\u001b[1;33m\u001b[0m\u001b[1;33m\u001b[0m\u001b[0m\n",
      "\u001b[1;32m~\\Anaconda3\\lib\\site-packages\\pandas\\core\\base.py\u001b[0m in \u001b[0;36m__getitem__\u001b[1;34m(self, key)\u001b[0m\n\u001b[0;32m    266\u001b[0m         \u001b[1;32melse\u001b[0m\u001b[1;33m:\u001b[0m\u001b[1;33m\u001b[0m\u001b[1;33m\u001b[0m\u001b[0m\n\u001b[0;32m    267\u001b[0m             \u001b[1;32mif\u001b[0m \u001b[0mkey\u001b[0m \u001b[1;32mnot\u001b[0m \u001b[1;32min\u001b[0m \u001b[0mself\u001b[0m\u001b[1;33m.\u001b[0m\u001b[0mobj\u001b[0m\u001b[1;33m:\u001b[0m\u001b[1;33m\u001b[0m\u001b[1;33m\u001b[0m\u001b[0m\n\u001b[1;32m--> 268\u001b[1;33m                 \u001b[1;32mraise\u001b[0m \u001b[0mKeyError\u001b[0m\u001b[1;33m(\u001b[0m\u001b[1;34m\"Column not found: {key}\"\u001b[0m\u001b[1;33m.\u001b[0m\u001b[0mformat\u001b[0m\u001b[1;33m(\u001b[0m\u001b[0mkey\u001b[0m\u001b[1;33m=\u001b[0m\u001b[0mkey\u001b[0m\u001b[1;33m)\u001b[0m\u001b[1;33m)\u001b[0m\u001b[1;33m\u001b[0m\u001b[1;33m\u001b[0m\u001b[0m\n\u001b[0m\u001b[0;32m    269\u001b[0m             \u001b[1;32mreturn\u001b[0m \u001b[0mself\u001b[0m\u001b[1;33m.\u001b[0m\u001b[0m_gotitem\u001b[0m\u001b[1;33m(\u001b[0m\u001b[0mkey\u001b[0m\u001b[1;33m,\u001b[0m \u001b[0mndim\u001b[0m\u001b[1;33m=\u001b[0m\u001b[1;36m1\u001b[0m\u001b[1;33m)\u001b[0m\u001b[1;33m\u001b[0m\u001b[1;33m\u001b[0m\u001b[0m\n\u001b[0;32m    270\u001b[0m \u001b[1;33m\u001b[0m\u001b[0m\n",
      "\u001b[1;31mKeyError\u001b[0m: 'Column not found: W-L%'"
     ]
    }
   ],
   "source": [
    "x = teams['3PA'].mean()\n",
    "y = teams['WS'].mean()\n",
    "plt.scatter(x,y)"
   ]
  },
  {
   "cell_type": "code",
   "execution_count": 2,
   "metadata": {},
   "outputs": [
    {
     "name": "stdout",
     "output_type": "stream",
     "text": [
      "Which Player would you like to study?\n"
     ]
    },
    {
     "data": {
      "text/plain": [
       "[<matplotlib.lines.Line2D at 0x1fae598d248>]"
      ]
     },
     "execution_count": 2,
     "metadata": {},
     "output_type": "execute_result"
    },
    {
     "data": {
      "image/png": "[encoded data removed]",
      "text/plain": [
       "<Figure size 432x288 with 1 Axes>"
      ]
     },
     "metadata": {
      "needs_background": "light"
     },
     "output_type": "display_data"
    }
   ],
   "source": [
    "\n"
   ]
  },
  {
   "cell_type": "code",
   "execution_count": 7,
   "metadata": {},
   "outputs": [],
   "source": []
  },
  {
   "cell_type": "code",
   "execution_count": 13,
   "metadata": {},
   "outputs": [],
   "source": []
  },
  {
   "cell_type": "code",
   "execution_count": 19,
   "metadata": {},
   "outputs": [
    {
     "data": {
      "text/plain": [
       "<matplotlib.axes._subplots.AxesSubplot at 0x17443181788>"
      ]
     },
     "execution_count": 19,
     "metadata": {},
     "output_type": "execute_result"
    },
    {
     "data": {
      "image/png": "[encoded data removed]",
      "text/plain": [
       "<Figure size 432x288 with 1 Axes>"
      ]
     },
     "metadata": {
      "needs_background": "light"
     },
     "output_type": "display_data"
    }
   ],
   "source": []
  },
  {
   "cell_type": "code",
   "execution_count": null,
   "metadata": {},
   "outputs": [],
   "source": []
  }
 ],
 "metadata": {
  "kernelspec": {
   "display_name": "Python 3",
   "language": "python",
   "name": "python3"
  },
  "language_info": {
   "codemirror_mode": {
    "name": "ipython",
    "version": 3
   },
   "file_extension": ".py",
   "mimetype": "text/x-python",
   "name": "python",
   "nbconvert_exporter": "python",
   "pygments_lexer": "ipython3",
   "version": "3.7.4"
  }
 },
 "nbformat": 4,
 "nbformat_minor": 2
}
