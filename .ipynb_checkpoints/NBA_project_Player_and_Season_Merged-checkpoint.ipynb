{
 "cells": [
  {
   "cell_type": "code",
   "execution_count": 1,
   "metadata": {},
   "outputs": [],
   "source": [
    "#!pip install nba_api\n",
    "import pandas as pd\n",
    "import csv\n",
    "import matplotlib.pyplot as plt\n",
    "import numpy as np\n",
    "\n",
    "#Call the data from the player data .csv and truncate to only include 1989-90 seasons onward\n",
    "closed_file = 'NBA PROJECTS.csv'\n",
    "players = pd.read_csv(closed_file)\n",
    "players = players.loc[(players['Tm'] != 'TOT')& (players['Year'] >= 1990)]"
   ]
  },
  {
   "cell_type": "code",
   "execution_count": 2,
   "metadata": {},
   "outputs": [],
   "source": [
    "#Call data from the season record and team abbreviation .csv files\n",
    "record_file = 'NBA Season Records.csv'\n",
    "name_file = 'NBA Abbreviations.csv'\n",
    "records = pd.read_csv(record_file)\n",
    "names = pd.read_csv(name_file)\n",
    "\n",
    "#Clean the data in the season column to go from str(2016-17) format to float(2017) format\n",
    "ssns = []\n",
    "for year in records['Season']:\n",
    "    yr = int(year.split('-')[1])\n",
    "    if ((10 <= yr) & (yr < 20)):\n",
    "        ssns.append(float('20' + str(yr)))\n",
    "    elif((0 <= yr) & (yr < 10)):\n",
    "        ssns.append(float('200' + str(yr)))\n",
    "    else:\n",
    "        ssns.append(float('19' + str(yr)))\n",
    "seasons = pd.Series(ssns)\n",
    "records['Season'] = seasons\n",
    "\n",
    "#Truncate the data to only represent seasons from 1989-90 onward (removing 2017-18 as it was not in the other dataframe)\n",
    "records = records.loc[(records['Season'] >= 1990) & (records['Season'] <= 2017)]\n",
    "\n",
    "#Remove the * after the team name denoting a playoff presence\n",
    "records['Team'] = records['Team'].str.replace('*', '')\n",
    "\n",
    "#Change the names of the teams on the record dataset to the abbreviations on the abbreviation dataset\n",
    "records['Team'] = records['Team'].map(names.set_index('Team')['Abbreviation'])\n",
    "\n",
    "#Special condition for \"Charlotte Hornets.\" The name was not used contiguously, so additional conditions were needed\n",
    "records.loc[(records['Team'].isnull() == True) & \n",
    "            (records['Season'] >= 2015), 'Team'] = records.loc[(records['Team'].isnull() == True) & \n",
    "                                                               (records['Season'] >= 2015), 'Team'].replace({np.nan:'CHA'})\n",
    "records.loc[(records['Team'].isnull() == True) & \n",
    "            (records['Season'] < 2015), 'Team'] = records.loc[(records['Team'].isnull() == True) & \n",
    "                                                               (records['Season'] < 2015), 'Team'].replace({np.nan:'NOP'})\n",
    "records = records.rename(columns = {'Team':'Tm', 'Season':'Year'})\n",
    "\n",
    "#Denote whether the team made the playoffs that season\n",
    "records['Made Playoffs'] = records['Playoffs'].notna()\n",
    "\n",
    "#Write to a csv for easier results testing\n",
    "#records.to_csv(\"test_output/records_results.csv\", index=False, header=True)"
   ]
  },
  {
   "cell_type": "code",
   "execution_count": 3,
   "metadata": {},
   "outputs": [
    {
     "name": "stdout",
     "output_type": "stream",
     "text": [
      "         Year             Player   Tm    3PA\n",
      "9547   1990.0         Mark Acres  ORL    4.0\n",
      "9548   1990.0      Michael Adams  DEN  432.0\n",
      "9549   1990.0       Mark Aguirre  DET   93.0\n",
      "9550   1990.0        Danny Ainge  SAC  289.0\n",
      "9551   1990.0        Mark Alarie  WAS   49.0\n",
      "...       ...                ...  ...    ...\n",
      "24686  2017.0        Cody Zeller  CHA    1.0\n",
      "24687  2017.0       Tyler Zeller  BOS    1.0\n",
      "24688  2017.0  Stephen Zimmerman  ORL    0.0\n",
      "24689  2017.0        Paul Zipser  CHI   99.0\n",
      "24690  2017.0        Ivica Zubac  LAL    3.0\n",
      "\n",
      "[13777 rows x 4 columns]\n"
     ]
    }
   ],
   "source": [
    "#Rename some of the team abbreviations to capture recent franchise movement/rename.\n",
    "players = players.replace({'Tm':{'WSB':'WAS', 'VAN': 'MEM', 'NJN': 'BRK', 'SEA': 'OKC', \n",
    "                         'CHH':'NOP', 'NOH': 'NOP', 'NOK': 'NOP', 'CHO':'CHA' }})"
   ]
  },
  {
   "cell_type": "code",
   "execution_count": 4,
   "metadata": {},
   "outputs": [],
   "source": [
    "#Merge the season results data with the player data. Season data is duplicated for each player\n",
    "nba = pd.merge(players, records, on = ['Year', 'Tm'], how = 'left')\n",
    "\n",
    "#Write to csv for easier visualization\n",
    "nba.to_csv(\"test_output/merge_results.csv\", index=False, header=True)"
   ]
  }
 ],
 "metadata": {
  "kernelspec": {
   "display_name": "Python 3",
   "language": "python",
   "name": "python3"
  },
  "language_info": {
   "codemirror_mode": {
    "name": "ipython",
    "version": 3
   },
   "file_extension": ".py",
   "mimetype": "text/x-python",
   "name": "python",
   "nbconvert_exporter": "python",
   "pygments_lexer": "ipython3",
   "version": "3.7.4"
  }
 },
 "nbformat": 4,
 "nbformat_minor": 2
}
